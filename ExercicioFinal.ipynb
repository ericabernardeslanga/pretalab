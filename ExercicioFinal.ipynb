{
  "nbformat": 4,
  "nbformat_minor": 0,
  "metadata": {
    "colab": {
      "provenance": [],
      "authorship_tag": "ABX9TyP2fDRbWdBFQoU9zEUEoxQt",
      "include_colab_link": true
    },
    "kernelspec": {
      "name": "python3",
      "display_name": "Python 3"
    },
    "language_info": {
      "name": "python"
    }
  },
  "cells": [
    {
      "cell_type": "markdown",
      "metadata": {
        "id": "view-in-github",
        "colab_type": "text"
      },
      "source": [
        "<a href=\"https://colab.research.google.com/github/ericabernardeslanga/pretalab/blob/main/ExercicioFinal.ipynb\" target=\"_parent\"><img src=\"https://colab.research.google.com/assets/colab-badge.svg\" alt=\"Open In Colab\"/></a>"
      ]
    },
    {
      "cell_type": "code",
      "execution_count": null,
      "metadata": {
        "id": "EmaK5_KW7Aac"
      },
      "outputs": [],
      "source": [
        "#Contagem de Medalhas\n",
        "#Crie um programa que receba o número de medalhas de ouro, prata e bronze de um país nas Olimpíadas e calcule o total de medalhas. Quando escrever 'sair', o programa deverá encerrar e mostrar na tela o ranking de medalhas no formato:\n",
        "\n",
        "\n",
        "#Ranking de medalhas:\n",
        "#Brasil: 7 medalhas\n",
        "#França: 6 medalhas\n",
        "#Argentina: 3 medalhas"
      ]
    },
    {
      "cell_type": "code",
      "source": [
        "#Dicionário\n",
        "ranking_medalhas = {}\n",
        "\n",
        "#definir quantidade de paises\n",
        "num_paises = int(input('Digite o número de países do seu ranking: '))\n",
        "\n",
        "#entrada do numero de medalhas paises\n",
        "for num in range(num_paises):\n",
        "    pais = input('Digite o nome do país: ')\n",
        "    ouro = int(input('Digite o número de medalhas de ouro: '))\n",
        "    prata = int(input('Digite o número de medalhas de prata: '))\n",
        "    bronze = int(input('Digite o número de medalhas de bronze: '))\n",
        "    # Calcular o número total de medalhas\n",
        "    total_medalhas = ouro + prata + bronze\n",
        "    ranking_medalhas[pais] = total_medalhas\n",
        "ranking_ordenado = sorted(ranking_medalhas.items(),key=lambda item: item[1], reverse=True)\n",
        "print(f'\\nRanking de medalhas:')\n",
        "for pais, total in ranking_ordenado:\n",
        "    print(f'{pais}: {total} medalhas')\n",
        "    1\n",
        "\n"
      ],
      "metadata": {
        "colab": {
          "base_uri": "https://localhost:8080/"
        },
        "id": "1dmx50eX7cwN",
        "outputId": "b7f19245-f6bf-4325-b3f0-56eeb97c997f"
      },
      "execution_count": 22,
      "outputs": [
        {
          "output_type": "stream",
          "name": "stdout",
          "text": [
            "Digite o número de países do seu ranking: 3\n",
            "Digite o nome do país: Franca\n",
            "Digite o número de medalhas de ouro: 3\n",
            "Digite o número de medalhas de prata: 2\n",
            "Digite o número de medalhas de bronze: 1\n",
            "Digite o nome do país: Argentina\n",
            "Digite o número de medalhas de ouro: 1\n",
            "Digite o número de medalhas de prata: 1\n",
            "Digite o número de medalhas de bronze: 1\n",
            "Digite o nome do país: Brasil\n",
            "Digite o número de medalhas de ouro: 3\n",
            "Digite o número de medalhas de prata: 2\n",
            "Digite o número de medalhas de bronze: 2\n",
            "\n",
            "Ranking de medalhas:\n",
            "Brasil: 7 medalhas\n",
            "Franca: 6 medalhas\n",
            "Argentina: 3 medalhas\n"
          ]
        }
      ]
    },
    {
      "cell_type": "code",
      "source": [],
      "metadata": {
        "id": "bRe51Qkf81Zg"
      },
      "execution_count": null,
      "outputs": []
    }
  ]
}