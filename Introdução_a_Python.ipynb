{
  "nbformat": 4,
  "nbformat_minor": 0,
  "metadata": {
    "colab": {
      "provenance": [],
      "toc_visible": true,
      "include_colab_link": true
    },
    "kernelspec": {
      "name": "python3",
      "display_name": "Python 3"
    },
    "language_info": {
      "name": "python"
    }
  },
  "cells": [
    {
      "cell_type": "markdown",
      "metadata": {
        "id": "view-in-github",
        "colab_type": "text"
      },
      "source": [
        "<a href=\"https://colab.research.google.com/github/ericabernardeslanga/pretalab/blob/main/Introdu%C3%A7%C3%A3o_a_Python.ipynb\" target=\"_parent\"><img src=\"https://colab.research.google.com/assets/colab-badge.svg\" alt=\"Open In Colab\"/></a>"
      ]
    },
    {
      "cell_type": "markdown",
      "source": [
        "# Introdução a Python\n",
        "\n",
        "Python é uma das linguagens de programação mais populares do mundo nos últimos anos. Chegando a estar no primeiro lugar 1 lugar em muitos rankings pelo mundo.\n",
        "\n",
        "É uma linguagem extremamente versátil, funcionando tanto para o aprendizado de máquinas, construção de sites até para automação de tarefas e testes de softwares.\n",
        "\n",
        "Além disso, também é muito próxima da linguagem humana, facilitando o aprendizado e manutenção."
      ],
      "metadata": {
        "id": "sfxpH7Abzuwk"
      }
    },
    {
      "cell_type": "markdown",
      "source": [
        "## Mas, o que é Python?\n",
        "Python é uma linguagem de programação de uso geral. Como falado anteriormente, essa linguagem funciona para criar uma grande variedade de aplicações diferentes, como desenvolvimento de software, análise de dados, inteligência artificial, automação de tarefas, criação de aplicativos web e daí por diante."
      ],
      "metadata": {
        "id": "Lff72gS9vaOY"
      }
    },
    {
      "cell_type": "markdown",
      "source": [
        "## Algumas caracteristicas\n",
        "\n",
        "### Linguagem interpretada\n",
        "Significa que ela não precisa passar pelo processo de compilação. O processo de interpretação é executado dentro de máquinas virtuais, nas quais o código passa por uma camada intermediária que irá traduzir os comandos de programa para código binário.\n",
        "\n",
        "### Sintaxe simples\n",
        "Se trata de uma linguagem de alto nível. Sua sintaxe é simples, fácil de aprender e muito próxima da linguagem falada por nós.\n",
        "\n",
        "\n",
        "### Áreas que mais utilizam Python\n",
        "\n",
        "\n",
        "1.   Análise de Dados;\n",
        "2.   Aprendizado de Máquina;\n",
        "3.   Desenvolvimento Web;\n",
        "4.   DevOps.;\n",
        "\n"
      ],
      "metadata": {
        "id": "mOEL1KRIv2u2"
      }
    },
    {
      "cell_type": "markdown",
      "source": [
        "# Hora de Praticar\n"
      ],
      "metadata": {
        "id": "zvy1r_Vv0MHt"
      }
    },
    {
      "cell_type": "markdown",
      "source": [
        "### Python como uma calculadora"
      ],
      "metadata": {
        "id": "4rrPjHUf1Yt1"
      }
    },
    {
      "cell_type": "code",
      "source": [
        "2 + 3"
      ],
      "metadata": {
        "id": "M8-nowfBXCN7",
        "colab": {
          "base_uri": "https://localhost:8080/"
        },
        "outputId": "41149444-213f-4227-c481-8bbfcedd48a9"
      },
      "execution_count": 1,
      "outputs": [
        {
          "output_type": "execute_result",
          "data": {
            "text/plain": [
              "5"
            ]
          },
          "metadata": {},
          "execution_count": 1
        }
      ]
    },
    {
      "cell_type": "code",
      "source": [
        "5 * 4"
      ],
      "metadata": {
        "id": "MVxcMIPQ1k1l",
        "colab": {
          "base_uri": "https://localhost:8080/"
        },
        "outputId": "87d39b87-f563-47ac-e13c-47d7da582c41"
      },
      "execution_count": 2,
      "outputs": [
        {
          "output_type": "execute_result",
          "data": {
            "text/plain": [
              "20"
            ]
          },
          "metadata": {},
          "execution_count": 2
        }
      ]
    },
    {
      "cell_type": "code",
      "source": [
        "(12450983 * 9902 + 32) / 57"
      ],
      "metadata": {
        "id": "l-oDw2p31pZz",
        "colab": {
          "base_uri": "https://localhost:8080/"
        },
        "outputId": "57ff6f9b-1e88-49dd-a677-c0d9bdab835e"
      },
      "execution_count": 3,
      "outputs": [
        {
          "output_type": "execute_result",
          "data": {
            "text/plain": [
              "2162976029.7894735"
            ]
          },
          "metadata": {},
          "execution_count": 3
        }
      ]
    },
    {
      "cell_type": "markdown",
      "source": [
        "### Strings"
      ],
      "metadata": {
        "id": "jdjgzaSV2T_m"
      }
    },
    {
      "cell_type": "code",
      "source": [
        "\"Amanda\""
      ],
      "metadata": {
        "id": "xFmW_BV5y7-n",
        "colab": {
          "base_uri": "https://localhost:8080/",
          "height": 35
        },
        "outputId": "1edd42c4-897d-47d6-cb0e-e606916e4b14"
      },
      "execution_count": 4,
      "outputs": [
        {
          "output_type": "execute_result",
          "data": {
            "text/plain": [
              "'Amanda'"
            ],
            "application/vnd.google.colaboratory.intrinsic+json": {
              "type": "string"
            }
          },
          "metadata": {},
          "execution_count": 4
        }
      ]
    },
    {
      "cell_type": "code",
      "source": [
        "\"Meu nome é\""
      ],
      "metadata": {
        "id": "99plPeFi2j9a",
        "colab": {
          "base_uri": "https://localhost:8080/",
          "height": 35
        },
        "outputId": "43525be3-b71c-47f6-c1b2-c0157f573961"
      },
      "execution_count": 5,
      "outputs": [
        {
          "output_type": "execute_result",
          "data": {
            "text/plain": [
              "'Meu nome é'"
            ],
            "application/vnd.google.colaboratory.intrinsic+json": {
              "type": "string"
            }
          },
          "metadata": {},
          "execution_count": 5
        }
      ]
    },
    {
      "cell_type": "markdown",
      "source": [
        "### Operadores"
      ],
      "metadata": {
        "id": "MR0lZz_e2gbU"
      }
    },
    {
      "cell_type": "code",
      "source": [
        "\"Oi\" + \"Amanda\""
      ],
      "metadata": {
        "id": "TCq2EKJIy821",
        "colab": {
          "base_uri": "https://localhost:8080/",
          "height": 35
        },
        "outputId": "ba5bf8ab-e224-43bb-e10f-ca6fe9817c5d"
      },
      "execution_count": 6,
      "outputs": [
        {
          "output_type": "execute_result",
          "data": {
            "text/plain": [
              "'OiAmanda'"
            ],
            "application/vnd.google.colaboratory.intrinsic+json": {
              "type": "string"
            }
          },
          "metadata": {},
          "execution_count": 6
        }
      ]
    },
    {
      "cell_type": "code",
      "source": [
        "\"oi\"* 3"
      ],
      "metadata": {
        "id": "IFdlf51lB1t-",
        "colab": {
          "base_uri": "https://localhost:8080/",
          "height": 35
        },
        "outputId": "d7ec8f5f-6bbd-4749-ccc0-58218350d2fc"
      },
      "execution_count": 7,
      "outputs": [
        {
          "output_type": "execute_result",
          "data": {
            "text/plain": [
              "'oioioi'"
            ],
            "application/vnd.google.colaboratory.intrinsic+json": {
              "type": "string"
            }
          },
          "metadata": {},
          "execution_count": 7
        }
      ]
    },
    {
      "cell_type": "markdown",
      "source": [
        "### Funções"
      ],
      "metadata": {
        "id": "VkD-E7-E3AsR"
      }
    },
    {
      "cell_type": "code",
      "source": [
        "\"amanda\".upper()"
      ],
      "metadata": {
        "id": "n3yTzDb7BQ2Y",
        "colab": {
          "base_uri": "https://localhost:8080/",
          "height": 35
        },
        "outputId": "27107707-976a-4bef-e174-e990c647d1a0"
      },
      "execution_count": 8,
      "outputs": [
        {
          "output_type": "execute_result",
          "data": {
            "text/plain": [
              "'AMANDA'"
            ],
            "application/vnd.google.colaboratory.intrinsic+json": {
              "type": "string"
            }
          },
          "metadata": {},
          "execution_count": 8
        }
      ]
    },
    {
      "cell_type": "code",
      "source": [
        "len('Amanda')"
      ],
      "metadata": {
        "id": "J6KuphJTBdoJ",
        "colab": {
          "base_uri": "https://localhost:8080/"
        },
        "outputId": "de5c31ab-c738-4c5a-9628-6d1108e345c8"
      },
      "execution_count": 9,
      "outputs": [
        {
          "output_type": "execute_result",
          "data": {
            "text/plain": [
              "6"
            ]
          },
          "metadata": {},
          "execution_count": 9
        }
      ]
    },
    {
      "cell_type": "markdown",
      "source": [
        "### Erros"
      ],
      "metadata": {
        "id": "f6-zvaXf3Rn7"
      }
    },
    {
      "cell_type": "code",
      "source": [
        "len(str(304023))\n"
      ],
      "metadata": {
        "id": "oYReV9FJGwc1",
        "colab": {
          "base_uri": "https://localhost:8080/"
        },
        "outputId": "04c6b6f8-b331-43cd-84f5-de0f248655c9"
      },
      "execution_count": 19,
      "outputs": [
        {
          "output_type": "execute_result",
          "data": {
            "text/plain": [
              "6"
            ]
          },
          "metadata": {},
          "execution_count": 19
        }
      ]
    },
    {
      "cell_type": "markdown",
      "source": [
        "### Gemini IA\n"
      ],
      "metadata": {
        "id": "vcolYA5s32Se"
      }
    },
    {
      "cell_type": "markdown",
      "source": [
        "# Avançando um pouco mais\n"
      ],
      "metadata": {
        "id": "RpGMFFca4Q7E"
      }
    },
    {
      "cell_type": "markdown",
      "source": [
        "### Variáveis\n"
      ],
      "metadata": {
        "id": "ISGwNDHh4m0X"
      }
    },
    {
      "cell_type": "code",
      "source": [
        "nome = \"Ola\"\n",
        "nome"
      ],
      "metadata": {
        "id": "OYS_ibsEJN9m",
        "colab": {
          "base_uri": "https://localhost:8080/",
          "height": 35
        },
        "outputId": "d0f105de-0a42-4765-deaa-ae5d11b504aa"
      },
      "execution_count": 11,
      "outputs": [
        {
          "output_type": "execute_result",
          "data": {
            "text/plain": [
              "'Ola'"
            ],
            "application/vnd.google.colaboratory.intrinsic+json": {
              "type": "string"
            }
          },
          "metadata": {},
          "execution_count": 11
        }
      ]
    },
    {
      "cell_type": "code",
      "source": [
        "a = 4\n",
        "b = 6\n",
        "c = a + b\n",
        "c"
      ],
      "metadata": {
        "id": "4dkyguQDJZJ_",
        "colab": {
          "base_uri": "https://localhost:8080/"
        },
        "outputId": "f810876d-8199-499f-8046-17f459e793fd"
      },
      "execution_count": 12,
      "outputs": [
        {
          "output_type": "execute_result",
          "data": {
            "text/plain": [
              "10"
            ]
          },
          "metadata": {},
          "execution_count": 12
        }
      ]
    },
    {
      "cell_type": "code",
      "source": [
        "cidade= \"Tokyo\"\n",
        "cidade"
      ],
      "metadata": {
        "id": "tqOZsj_fJf7H",
        "colab": {
          "base_uri": "https://localhost:8080/",
          "height": 35
        },
        "outputId": "4f038d94-bce7-4260-d4f8-e59948876833"
      },
      "execution_count": 14,
      "outputs": [
        {
          "output_type": "execute_result",
          "data": {
            "text/plain": [
              "'Tokyo'"
            ],
            "application/vnd.google.colaboratory.intrinsic+json": {
              "type": "string"
            }
          },
          "metadata": {},
          "execution_count": 14
        }
      ]
    },
    {
      "cell_type": "markdown",
      "source": [
        "### Listas\n"
      ],
      "metadata": {
        "id": "ResTH90F5KX4"
      }
    },
    {
      "cell_type": "code",
      "source": [
        "loteria = [3, 42, 12, 19, 30, 59]\n",
        "loteria\n",
        "len(loteria)"
      ],
      "metadata": {
        "id": "WAYllfesKFb3",
        "colab": {
          "base_uri": "https://localhost:8080/"
        },
        "outputId": "e0b78779-2644-4faf-e2af-c6124b374824"
      },
      "execution_count": 15,
      "outputs": [
        {
          "output_type": "execute_result",
          "data": {
            "text/plain": [
              "6"
            ]
          },
          "metadata": {},
          "execution_count": 15
        }
      ]
    },
    {
      "cell_type": "code",
      "source": [
        "lista_de_compras = ['arroz', 'feijão', 'ovo']\n",
        "print(lista_de_compras)\n",
        "lista_de_compras.append('leite') #adicionar elemento na lista\n",
        "lista_de_compras"
      ],
      "metadata": {
        "id": "_BOhw3ZB5nFc",
        "colab": {
          "base_uri": "https://localhost:8080/"
        },
        "outputId": "243488cc-05c9-4438-d19b-7cf802480c9c"
      },
      "execution_count": 20,
      "outputs": [
        {
          "output_type": "stream",
          "name": "stdout",
          "text": [
            "['arroz', 'feijão', 'ovo']\n"
          ]
        },
        {
          "output_type": "execute_result",
          "data": {
            "text/plain": [
              "['arroz', 'feijão', 'ovo', 'leite']"
            ]
          },
          "metadata": {},
          "execution_count": 20
        }
      ]
    },
    {
      "cell_type": "code",
      "source": [
        "livros = ['Tudo sobre o amor', 'Olhares negros: Raça e representação', 'Por que amamos']\n",
        "livros[2]"
      ],
      "metadata": {
        "id": "xnKnHmxh91tE",
        "colab": {
          "base_uri": "https://localhost:8080/",
          "height": 35
        },
        "outputId": "a2d6c4cd-c394-4cb2-b0fe-57a9feb90eb2"
      },
      "execution_count": 21,
      "outputs": [
        {
          "output_type": "execute_result",
          "data": {
            "text/plain": [
              "'Por que amamos'"
            ],
            "application/vnd.google.colaboratory.intrinsic+json": {
              "type": "string"
            }
          },
          "metadata": {},
          "execution_count": 21
        }
      ]
    },
    {
      "cell_type": "markdown",
      "source": [
        "### Print()\n"
      ],
      "metadata": {
        "id": "-U3ApYqQ5YkO"
      }
    },
    {
      "cell_type": "code",
      "source": [
        "print(loteria)\n",
        "loteria.sort() #ordenar listas maior para menor , valores numericos\n",
        "print(loteria)"
      ],
      "metadata": {
        "id": "3yAGJ00rKiSH",
        "colab": {
          "base_uri": "https://localhost:8080/"
        },
        "outputId": "851fc648-ad96-4765-9682-e5c936e2f0e1"
      },
      "execution_count": 22,
      "outputs": [
        {
          "output_type": "stream",
          "name": "stdout",
          "text": [
            "[3, 42, 12, 19, 30, 59]\n",
            "[3, 12, 19, 30, 42, 59]\n"
          ]
        }
      ]
    },
    {
      "cell_type": "markdown",
      "source": [
        "### f-Strings\n"
      ],
      "metadata": {
        "id": "Fsk8QTuG3b-B"
      }
    },
    {
      "cell_type": "markdown",
      "source": [
        "### Perguntas para usuário digitar\n"
      ],
      "metadata": {
        "id": "P8eHelYyFcSk"
      }
    },
    {
      "cell_type": "code",
      "source": [
        "nome = input('Qual é o seu nome? ')\n",
        "print(f'Olá {nome}, muito prazer.')"
      ],
      "metadata": {
        "id": "0ILcZDG0FgJO",
        "colab": {
          "base_uri": "https://localhost:8080/"
        },
        "outputId": "0ee6cb02-712f-4360-9b93-3b859eb94e2c"
      },
      "execution_count": 23,
      "outputs": [
        {
          "output_type": "stream",
          "name": "stdout",
          "text": [
            "Qual é o seu nome? Érica\n",
            "Olá Érica, muito prazer.\n"
          ]
        }
      ]
    },
    {
      "cell_type": "code",
      "source": [],
      "metadata": {
        "id": "CI6pow0A3j7N"
      },
      "execution_count": null,
      "outputs": []
    },
    {
      "cell_type": "markdown",
      "source": [
        "### Dicionários\n"
      ],
      "metadata": {
        "id": "vIAi2HRo7Dja"
      }
    },
    {
      "cell_type": "code",
      "source": [
        "participante = {'nome': 'Rebeca', 'pais': 'Brasil', 'numeros_favoritos': [7, 42, 92]}\n",
        "print(participante)"
      ],
      "metadata": {
        "id": "Is1wMwPTLQYe",
        "colab": {
          "base_uri": "https://localhost:8080/"
        },
        "outputId": "e88543fb-6824-4084-8ca0-fcaf2f9620b9"
      },
      "execution_count": 24,
      "outputs": [
        {
          "output_type": "stream",
          "name": "stdout",
          "text": [
            "{'nome': 'Rebeca', 'pais': 'Brasil', 'numeros_favoritos': [7, 42, 92]}\n"
          ]
        }
      ]
    },
    {
      "cell_type": "code",
      "source": [
        "print(participante['nome'])\n"
      ],
      "metadata": {
        "id": "lQpbS6k2LRTd",
        "colab": {
          "base_uri": "https://localhost:8080/"
        },
        "outputId": "84654f95-2581-44f5-f06b-416d96c8350a"
      },
      "execution_count": 25,
      "outputs": [
        {
          "output_type": "stream",
          "name": "stdout",
          "text": [
            "Rebeca\n"
          ]
        }
      ]
    },
    {
      "cell_type": "code",
      "source": [
        "print(len(participante['numeros_favoritos']))"
      ],
      "metadata": {
        "id": "RBZpVhmD77Q9",
        "colab": {
          "base_uri": "https://localhost:8080/"
        },
        "outputId": "1183163d-0d56-47dd-a7ab-fc12800616d0"
      },
      "execution_count": 27,
      "outputs": [
        {
          "output_type": "stream",
          "name": "stdout",
          "text": [
            "3\n"
          ]
        }
      ]
    },
    {
      "cell_type": "markdown",
      "source": [
        "### Comparações\n"
      ],
      "metadata": {
        "id": "rj01qnul8FWb"
      }
    },
    {
      "cell_type": "code",
      "source": [
        "5 > 4"
      ],
      "metadata": {
        "id": "TF9FPwNkLvf4",
        "colab": {
          "base_uri": "https://localhost:8080/"
        },
        "outputId": "3d6f0404-ac10-489b-f3a9-56d52aa1bee2"
      },
      "execution_count": 28,
      "outputs": [
        {
          "output_type": "execute_result",
          "data": {
            "text/plain": [
              "True"
            ]
          },
          "metadata": {},
          "execution_count": 28
        }
      ]
    },
    {
      "cell_type": "code",
      "source": [
        "2 < 1"
      ],
      "metadata": {
        "id": "Lt-dRvql8SFU",
        "colab": {
          "base_uri": "https://localhost:8080/"
        },
        "outputId": "607d0b2b-5c9b-4bd9-c2b5-74a4ed342046"
      },
      "execution_count": 29,
      "outputs": [
        {
          "output_type": "execute_result",
          "data": {
            "text/plain": [
              "False"
            ]
          },
          "metadata": {},
          "execution_count": 29
        }
      ]
    },
    {
      "cell_type": "code",
      "source": [
        "10 < 7 * 3"
      ],
      "metadata": {
        "id": "GWjpFBp38WL3",
        "colab": {
          "base_uri": "https://localhost:8080/"
        },
        "outputId": "5ec246cb-56cf-4f0f-93d4-c487d68e790c"
      },
      "execution_count": 30,
      "outputs": [
        {
          "output_type": "execute_result",
          "data": {
            "text/plain": [
              "True"
            ]
          },
          "metadata": {},
          "execution_count": 30
        }
      ]
    },
    {
      "cell_type": "markdown",
      "source": [
        "#### Igual ou Diferente\n"
      ],
      "metadata": {
        "id": "9oeihviO88Qn"
      }
    },
    {
      "cell_type": "code",
      "source": [
        "3 == 3"
      ],
      "metadata": {
        "id": "wvWOaJr68PNd",
        "colab": {
          "base_uri": "https://localhost:8080/"
        },
        "outputId": "a8e83736-9715-4885-89f7-cf4ba13a12f1"
      },
      "execution_count": 31,
      "outputs": [
        {
          "output_type": "execute_result",
          "data": {
            "text/plain": [
              "True"
            ]
          },
          "metadata": {},
          "execution_count": 31
        }
      ]
    },
    {
      "cell_type": "code",
      "source": [
        "3 != 3"
      ],
      "metadata": {
        "id": "96MYTxAt8dYe",
        "colab": {
          "base_uri": "https://localhost:8080/"
        },
        "outputId": "6017dec0-f737-4484-ef27-cf379ccfcd4d"
      },
      "execution_count": 32,
      "outputs": [
        {
          "output_type": "execute_result",
          "data": {
            "text/plain": [
              "False"
            ]
          },
          "metadata": {},
          "execution_count": 32
        }
      ]
    },
    {
      "cell_type": "markdown",
      "source": [
        "#### Maior ou igual (>=) e Menor ou igual (<=)\n"
      ],
      "metadata": {
        "id": "NFGHhg5I9o4W"
      }
    },
    {
      "cell_type": "code",
      "source": [
        "3 >= 3"
      ],
      "metadata": {
        "id": "1PXurJJk8xzh",
        "colab": {
          "base_uri": "https://localhost:8080/"
        },
        "outputId": "c80be600-d2d8-4dfa-c33d-57d333b31f94"
      },
      "execution_count": 33,
      "outputs": [
        {
          "output_type": "execute_result",
          "data": {
            "text/plain": [
              "True"
            ]
          },
          "metadata": {},
          "execution_count": 33
        }
      ]
    },
    {
      "cell_type": "code",
      "source": [
        "9 <=4"
      ],
      "metadata": {
        "id": "6o5rg8qq8sK1",
        "colab": {
          "base_uri": "https://localhost:8080/"
        },
        "outputId": "732b4f5f-d5c4-42eb-c1d6-4d319a08ae94"
      },
      "execution_count": 34,
      "outputs": [
        {
          "output_type": "execute_result",
          "data": {
            "text/plain": [
              "False"
            ]
          },
          "metadata": {},
          "execution_count": 34
        }
      ]
    },
    {
      "cell_type": "code",
      "source": [
        "5 >= 3"
      ],
      "metadata": {
        "id": "mm0Ou4VY8ngJ",
        "colab": {
          "base_uri": "https://localhost:8080/"
        },
        "outputId": "bb993ed5-f883-4fd4-8ea4-3d5549fce357"
      },
      "execution_count": 35,
      "outputs": [
        {
          "output_type": "execute_result",
          "data": {
            "text/plain": [
              "True"
            ]
          },
          "metadata": {},
          "execution_count": 35
        }
      ]
    },
    {
      "cell_type": "markdown",
      "source": [
        "#### and e or\n"
      ],
      "metadata": {
        "id": "RlJzy5MH9Y7C"
      }
    },
    {
      "cell_type": "code",
      "source": [
        "6 > 5 and 5 > 4"
      ],
      "metadata": {
        "id": "tW5b-9qz95zE",
        "colab": {
          "base_uri": "https://localhost:8080/"
        },
        "outputId": "804560d1-8316-45ef-95af-a1b64c10ae5c"
      },
      "execution_count": 36,
      "outputs": [
        {
          "output_type": "execute_result",
          "data": {
            "text/plain": [
              "True"
            ]
          },
          "metadata": {},
          "execution_count": 36
        }
      ]
    },
    {
      "cell_type": "code",
      "source": [
        "6 > 5 or 5 > 4"
      ],
      "metadata": {
        "id": "gaOQgniv-MOF",
        "colab": {
          "base_uri": "https://localhost:8080/"
        },
        "outputId": "1572cf11-d30e-49d6-caaa-bbe713d6cb6a"
      },
      "execution_count": 37,
      "outputs": [
        {
          "output_type": "execute_result",
          "data": {
            "text/plain": [
              "True"
            ]
          },
          "metadata": {},
          "execution_count": 37
        }
      ]
    },
    {
      "cell_type": "code",
      "source": [
        "'maça' > 3"
      ],
      "metadata": {
        "id": "xRP7ZaNx-q_Y"
      },
      "execution_count": null,
      "outputs": []
    },
    {
      "cell_type": "markdown",
      "source": [
        "### Booleanos\n"
      ],
      "metadata": {
        "id": "6zt5iLy0_Peh"
      }
    },
    {
      "cell_type": "code",
      "source": [
        "a = True\n",
        "a\n"
      ],
      "metadata": {
        "id": "mnnNNuvK_UAH",
        "colab": {
          "base_uri": "https://localhost:8080/"
        },
        "outputId": "283718f8-25db-4c7d-d3cf-a4863dbe0261"
      },
      "execution_count": 40,
      "outputs": [
        {
          "output_type": "execute_result",
          "data": {
            "text/plain": [
              "True"
            ]
          },
          "metadata": {},
          "execution_count": 40
        }
      ]
    },
    {
      "cell_type": "code",
      "source": [
        "a = 3 > 4\n",
        "a"
      ],
      "metadata": {
        "id": "D7C-85ad_Ywy",
        "colab": {
          "base_uri": "https://localhost:8080/"
        },
        "outputId": "801fe93c-2b82-4cd4-c01f-aa65ec53f6d6"
      },
      "execution_count": 41,
      "outputs": [
        {
          "output_type": "execute_result",
          "data": {
            "text/plain": [
              "False"
            ]
          },
          "metadata": {},
          "execution_count": 41
        }
      ]
    },
    {
      "cell_type": "code",
      "source": [
        "True and True"
      ],
      "metadata": {
        "id": "NpRzjzV__gJe",
        "colab": {
          "base_uri": "https://localhost:8080/"
        },
        "outputId": "76e1089c-a07b-47c9-9d4c-2b1292f1750a"
      },
      "execution_count": 42,
      "outputs": [
        {
          "output_type": "execute_result",
          "data": {
            "text/plain": [
              "True"
            ]
          },
          "metadata": {},
          "execution_count": 42
        }
      ]
    },
    {
      "cell_type": "code",
      "source": [
        "True and False"
      ],
      "metadata": {
        "id": "I-00vqHu_qDC",
        "colab": {
          "base_uri": "https://localhost:8080/"
        },
        "outputId": "92356979-444e-492c-f286-d5be8f9e8810"
      },
      "execution_count": 43,
      "outputs": [
        {
          "output_type": "execute_result",
          "data": {
            "text/plain": [
              "False"
            ]
          },
          "metadata": {},
          "execution_count": 43
        }
      ]
    },
    {
      "cell_type": "code",
      "source": [
        "True and True #usar letra maiuscula"
      ],
      "metadata": {
        "id": "Z-Cmxlj5_kdt",
        "colab": {
          "base_uri": "https://localhost:8080/"
        },
        "outputId": "f9f7e117-376e-4c30-f7a0-3c0c4a6a79b1"
      },
      "execution_count": 45,
      "outputs": [
        {
          "output_type": "execute_result",
          "data": {
            "text/plain": [
              "True"
            ]
          },
          "metadata": {},
          "execution_count": 45
        }
      ]
    },
    {
      "cell_type": "code",
      "source": [
        "True and False"
      ],
      "metadata": {
        "id": "cJi5FFyF_tXO",
        "colab": {
          "base_uri": "https://localhost:8080/"
        },
        "outputId": "9e67db14-e94d-40d7-eab0-cab3b7bdb02c"
      },
      "execution_count": 46,
      "outputs": [
        {
          "output_type": "execute_result",
          "data": {
            "text/plain": [
              "False"
            ]
          },
          "metadata": {},
          "execution_count": 46
        }
      ]
    },
    {
      "cell_type": "code",
      "source": [
        "True and 3 < 4 == 3"
      ],
      "metadata": {
        "id": "vR2Iz6pz_wpI",
        "colab": {
          "base_uri": "https://localhost:8080/"
        },
        "outputId": "e23c0129-a761-4b49-9347-0ec6ee96a9af"
      },
      "execution_count": 47,
      "outputs": [
        {
          "output_type": "execute_result",
          "data": {
            "text/plain": [
              "False"
            ]
          },
          "metadata": {},
          "execution_count": 47
        }
      ]
    },
    {
      "cell_type": "markdown",
      "source": [
        "### Condições\n"
      ],
      "metadata": {
        "id": "eC3SOzYZAcbF"
      }
    },
    {
      "cell_type": "code",
      "source": [
        "if 3 > 2:\n",
        "    print('Isso funciona!')"
      ],
      "metadata": {
        "id": "xw8AuuPHMBVl",
        "colab": {
          "base_uri": "https://localhost:8080/"
        },
        "outputId": "d6265164-489c-44df-f71d-a33b59927e14"
      },
      "execution_count": 48,
      "outputs": [
        {
          "output_type": "stream",
          "name": "stdout",
          "text": [
            "Isso funciona!\n"
          ]
        }
      ]
    },
    {
      "cell_type": "code",
      "source": [
        "if True:\n",
        "    print('Isso também funciona!')"
      ],
      "metadata": {
        "id": "ct6ua0_wMOHj",
        "colab": {
          "base_uri": "https://localhost:8080/"
        },
        "outputId": "28e4ead3-dfae-4230-83a2-f23a5451aa96"
      },
      "execution_count": 49,
      "outputs": [
        {
          "output_type": "stream",
          "name": "stdout",
          "text": [
            "Isso também funciona!\n"
          ]
        }
      ]
    },
    {
      "cell_type": "code",
      "source": [
        "if False:\n",
        "    print('Isso não funciona!')"
      ],
      "metadata": {
        "id": "n2OZCpJ-AqsP"
      },
      "execution_count": 50,
      "outputs": []
    },
    {
      "cell_type": "code",
      "source": [
        "if 5 < 2:\n",
        "    print('5 é menor que 2')\n",
        "else:\n",
        "    print('5 não é menor que 2')"
      ],
      "metadata": {
        "id": "SqLDaDaSAzPn",
        "colab": {
          "base_uri": "https://localhost:8080/"
        },
        "outputId": "94bdebb7-6f1c-48ec-cbf2-c31d0e5770bd"
      },
      "execution_count": 51,
      "outputs": [
        {
          "output_type": "stream",
          "name": "stdout",
          "text": [
            "5 não é menor que 2\n"
          ]
        }
      ]
    },
    {
      "cell_type": "code",
      "source": [
        "estado = 'RS'\n",
        "if estado == 'RJ':\n",
        "    print('O cliente vive em Rio de Janeiro')\n",
        "elif estado == 'SP':\n",
        "    print('O cliente vive em São Paulo')\n",
        "elif estado == 'MG':\n",
        "    print('O cliente vive em Minas Gerais')\n",
        "else:\n",
        "    print('O cliente vive em outro lugar')"
      ],
      "metadata": {
        "id": "0AO6NAR1BclJ",
        "colab": {
          "base_uri": "https://localhost:8080/"
        },
        "outputId": "94143d62-e529-4608-fb9b-cedc13136317"
      },
      "execution_count": 65,
      "outputs": [
        {
          "output_type": "stream",
          "name": "stdout",
          "text": [
            "O cliente vive em outro lugar\n"
          ]
        }
      ]
    },
    {
      "cell_type": "markdown",
      "source": [
        "# Mais que avançado\n"
      ],
      "metadata": {
        "id": "5puIqp1ZCtzC"
      }
    },
    {
      "cell_type": "markdown",
      "source": [
        "### Funções"
      ],
      "metadata": {
        "id": "LMTdJf6HC-NY"
      }
    },
    {
      "cell_type": "code",
      "source": [
        "def boas_vindas():\n",
        "    print('Olá!')\n",
        "    print('Seja bem-vinda!')\n"
      ],
      "metadata": {
        "id": "RERyXZkeDDB4"
      },
      "execution_count": 54,
      "outputs": []
    },
    {
      "cell_type": "code",
      "source": [
        "boas_vindas()"
      ],
      "metadata": {
        "id": "kxhARghQDMha",
        "colab": {
          "base_uri": "https://localhost:8080/"
        },
        "outputId": "776e4fd5-1f4d-430e-ebc9-fcb922e9567c"
      },
      "execution_count": 55,
      "outputs": [
        {
          "output_type": "stream",
          "name": "stdout",
          "text": [
            "Olá!\n",
            "Seja bem-vinda!\n"
          ]
        }
      ]
    },
    {
      "cell_type": "code",
      "source": [
        "def boas_vindas_nominal(nome):\n",
        "  if nome == 'Amanda':\n",
        "    print('Olá Amanda!')\n",
        "  elif nome == 'Mari':\n",
        "    print('Olá Mari!')\n",
        "  else:\n",
        "    print('Olá!')\n",
        "    print('Seja bem-vinda!')\n"
      ],
      "metadata": {
        "id": "ublwd8buDZxr"
      },
      "execution_count": 59,
      "outputs": []
    },
    {
      "cell_type": "code",
      "source": [
        "boas_vindas_nominal(\"Amanda\")"
      ],
      "metadata": {
        "id": "IlU96Vd4DzAc",
        "colab": {
          "base_uri": "https://localhost:8080/"
        },
        "outputId": "b598977e-7f63-4644-96ef-cb8b3fabe8a4"
      },
      "execution_count": 62,
      "outputs": [
        {
          "output_type": "stream",
          "name": "stdout",
          "text": [
            "Olá Amanda!\n"
          ]
        }
      ]
    },
    {
      "cell_type": "code",
      "source": [
        "def boas_vindas_pessoal(nome):\n",
        "    print('Olá ' + nome + '!')\n",
        "    print('Seja bem-vinda!')"
      ],
      "metadata": {
        "id": "549F5qzuE4cK"
      },
      "execution_count": 66,
      "outputs": []
    },
    {
      "cell_type": "code",
      "source": [
        "boas_vindas_pessoal(\"Ana\")"
      ],
      "metadata": {
        "id": "NTGkKpUCFIZ9",
        "colab": {
          "base_uri": "https://localhost:8080/"
        },
        "outputId": "4720ed1f-a53a-4b77-ea84-f484e826a403"
      },
      "execution_count": 67,
      "outputs": [
        {
          "output_type": "stream",
          "name": "stdout",
          "text": [
            "Olá Ana!\n",
            "Seja bem-vinda!\n"
          ]
        }
      ]
    },
    {
      "cell_type": "markdown",
      "source": [
        "### Laços de repetição\n"
      ],
      "metadata": {
        "id": "Dt7krNjhDMt9"
      }
    },
    {
      "cell_type": "code",
      "source": [
        "alunas = ['Júlia', 'Ingrid', 'Amélia', 'Fernanda', 'Luiza', 'Muriel', 'Taylor', 'Akira']"
      ],
      "metadata": {
        "id": "WXQBr2OfFy1S"
      },
      "execution_count": 68,
      "outputs": []
    },
    {
      "cell_type": "code",
      "source": [
        "for nome in alunas:\n",
        "    boas_vindas_pessoal(nome) ###nome da variavel , lista alunas(aonde vai percorrer)\n",
        "    print('----')"
      ],
      "metadata": {
        "id": "ImmKoZcFGXXd",
        "colab": {
          "base_uri": "https://localhost:8080/"
        },
        "outputId": "a03725e9-131d-45af-825b-6e724a01753c"
      },
      "execution_count": 69,
      "outputs": [
        {
          "output_type": "stream",
          "name": "stdout",
          "text": [
            "Olá Júlia!\n",
            "Seja bem-vinda!\n",
            "----\n",
            "Olá Ingrid!\n",
            "Seja bem-vinda!\n",
            "----\n",
            "Olá Amélia!\n",
            "Seja bem-vinda!\n",
            "----\n",
            "Olá Fernanda!\n",
            "Seja bem-vinda!\n",
            "----\n",
            "Olá Luiza!\n",
            "Seja bem-vinda!\n",
            "----\n",
            "Olá Muriel!\n",
            "Seja bem-vinda!\n",
            "----\n",
            "Olá Taylor!\n",
            "Seja bem-vinda!\n",
            "----\n",
            "Olá Akira!\n",
            "Seja bem-vinda!\n",
            "----\n"
          ]
        }
      ]
    },
    {
      "cell_type": "code",
      "source": [
        "for index in range(1, 6):\n",
        "    print(index)"
      ],
      "metadata": {
        "id": "YLvU2asbGny7",
        "colab": {
          "base_uri": "https://localhost:8080/"
        },
        "outputId": "9f84f8b8-144f-4c4d-bdd8-285cd954c636"
      },
      "execution_count": 70,
      "outputs": [
        {
          "output_type": "stream",
          "name": "stdout",
          "text": [
            "1\n",
            "2\n",
            "3\n",
            "4\n",
            "5\n"
          ]
        }
      ]
    },
    {
      "cell_type": "code",
      "source": [
        "x = 8\n",
        "while x < 10:\n",
        "    print(x)\n",
        "    x += 1\n",
        "else:\n",
        "    print(\"fim while\")"
      ],
      "metadata": {
        "id": "Rw0MHsMFaMBx",
        "colab": {
          "base_uri": "https://localhost:8080/"
        },
        "outputId": "82499627-feb8-459a-ff58-a8a93b2b7c68"
      },
      "execution_count": 74,
      "outputs": [
        {
          "output_type": "stream",
          "name": "stdout",
          "text": [
            "8\n",
            "9\n",
            "fim while\n"
          ]
        }
      ]
    },
    {
      "cell_type": "code",
      "source": [
        "x = 3\n",
        "while x < 10:\n",
        "    print(x)\n",
        "    x += 1\n",
        "    if x == 6:\n",
        "        print(\"x é igual a 6\")\n",
        "else:\n",
        "    print(\"fim while\")"
      ],
      "metadata": {
        "id": "ifaVjIQiaS5c",
        "colab": {
          "base_uri": "https://localhost:8080/"
        },
        "outputId": "2ef2be5b-8bf9-445f-a2b5-de929201b257"
      },
      "execution_count": 83,
      "outputs": [
        {
          "output_type": "stream",
          "name": "stdout",
          "text": [
            "3\n",
            "4\n",
            "5\n",
            "x é igual a 6\n",
            "6\n",
            "7\n",
            "8\n",
            "9\n",
            "fim while\n"
          ]
        }
      ]
    }
  ]
}